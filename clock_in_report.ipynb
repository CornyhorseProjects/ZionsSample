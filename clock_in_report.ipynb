{
 "cells": [
  {
   "cell_type": "code",
   "execution_count": null,
   "metadata": {
    "collapsed": true
   },
   "outputs": [],
   "source": []
  },
  {
   "cell_type": "markdown",
   "source": [
    "## Package Imports"
   ],
   "metadata": {
    "collapsed": false
   }
  },
  {
   "cell_type": "code",
   "execution_count": 7,
   "outputs": [],
   "source": [
    "import os\n",
    "import pandas as pd"
   ],
   "metadata": {
    "collapsed": false,
    "pycharm": {
     "name": "#%%\n"
    }
   }
  },
  {
   "cell_type": "markdown",
   "source": [
    "## Local Imports"
   ],
   "metadata": {
    "collapsed": false
   }
  },
  {
   "cell_type": "code",
   "execution_count": 4,
   "outputs": [],
   "source": [
    "from clock.config import connect"
   ],
   "metadata": {
    "collapsed": false,
    "pycharm": {
     "name": "#%%\n"
    }
   }
  },
  {
   "cell_type": "markdown",
   "source": [
    "## Configuration"
   ],
   "metadata": {
    "collapsed": false
   }
  },
  {
   "cell_type": "code",
   "execution_count": null,
   "outputs": [],
   "source": [
    "%load_ext autoreload\n",
    "#%autoreload 0 # -- Default\n",
    "#%autoreload 1 # --Only auto-reload modules imported using aimport\n",
    "%autoreload 2 # --Auto-reload all modules\n",
    "\n"
   ],
   "metadata": {
    "collapsed": false,
    "pycharm": {
     "name": "#%%\n"
    }
   }
  },
  {
   "cell_type": "code",
   "execution_count": 5,
   "outputs": [],
   "source": [
    "engine, session = connect()"
   ],
   "metadata": {
    "collapsed": false,
    "pycharm": {
     "name": "#%%\n"
    }
   }
  },
  {
   "cell_type": "code",
   "execution_count": 41,
   "outputs": [],
   "source": [
    "sql = '''\n",
    "with frequency as (\n",
    "    select total_days\n",
    "         , count(employee_id) as frequency\n",
    "    from attendance\n",
    "    group by total_days\n",
    "    order by total_days\n",
    "), add_bins as (\n",
    "    select case\n",
    "               when total_days >= 240 and total_days <= 249 then '240-249'\n",
    "               when total_days >= 250 and total_days <= 259 then '240-259'\n",
    "               when total_days >= 260 and total_days <= 269 then '260-269'\n",
    "               when total_days >= 270 and total_days <= 279 then '270-279'\n",
    "               when total_days >= 280 and total_days <= 289 then '280-289'\n",
    "               when total_days >= 290 and total_days <= 299 then '290-299'\n",
    "               when total_days > 300 then '300+'\n",
    "        end as bin\n",
    "         , frequency\n",
    "    from frequency\n",
    ")\n",
    "select bin\n",
    "     , sum(frequency) as frequency\n",
    "from add_bins\n",
    "group by bin;\n",
    "\n",
    "'''\n",
    "df = pd.read_sql_query(sql, con=engine)"
   ],
   "metadata": {
    "collapsed": false,
    "pycharm": {
     "name": "#%%\n"
    }
   }
  },
  {
   "cell_type": "markdown",
   "source": [
    "Attendance here is defined as someone who shows up for work in a given day, even if it is for\n",
    "only a few minutes.  We can see that this follows a normal distribution, centered around the 270\n",
    " days of total attendance, with a few in the 240s and >300:"
   ],
   "metadata": {
    "collapsed": false,
    "pycharm": {
     "name": "#%% md\n"
    }
   }
  },
  {
   "cell_type": "code",
   "execution_count": 42,
   "outputs": [
    {
     "data": {
      "text/plain": "<AxesSubplot:xlabel='bin'>"
     },
     "execution_count": 42,
     "metadata": {},
     "output_type": "execute_result"
    },
    {
     "data": {
      "text/plain": "<Figure size 432x288 with 1 Axes>",
      "image/png": "[encoded data removed]"
     },
     "metadata": {
      "needs_background": "light"
     },
     "output_type": "display_data"
    }
   ],
   "source": [
    "df.plot(x='bin', y='frequency', kind='bar')"
   ],
   "metadata": {
    "collapsed": false,
    "pycharm": {
     "name": "#%%\n"
    }
   }
  },
  {
   "cell_type": "markdown",
   "source": [
    "We can take a look at the top 25 performers and see that universally they had 1200+ hours per year."
   ],
   "metadata": {
    "collapsed": false,
    "pycharm": {
     "name": "#%% md\n"
    }
   }
  },
  {
   "cell_type": "code",
   "execution_count": 60,
   "outputs": [],
   "source": [
    "sql = '''\n",
    "select employee_id\n",
    "      , yearly_floor_time_hours\n",
    "     , rank_best\n",
    "from best_worst_25\n",
    "where rank_best <= 25\n",
    "order by rank_best;\n",
    "'''\n",
    "df = pd.read_sql_query(sql, con=engine)"
   ],
   "metadata": {
    "collapsed": false,
    "pycharm": {
     "name": "#%%\n"
    }
   }
  },
  {
   "cell_type": "code",
   "execution_count": 66,
   "outputs": [
    {
     "data": {
      "text/plain": "    employee_id  yearly_floor_time_hours  rank_best\n0             1                     1359          1\n1             0                     1321          2\n2             2                     1301          3\n3            55                     1209          4\n4           185                     1203          5\n5           265                     1202          6\n6           155                     1201          7\n7            72                     1197          8\n8            98                     1194          9\n9           210                     1190         10\n10           12                     1189         11\n11           10                     1188         12\n12           25                     1185         13\n13           14                     1184         14\n14          262                     1182         15\n15           36                     1177         16\n16          154                     1176         17\n17          120                     1175         18\n18          179                     1175         19\n19          222                     1175         20\n20          213                     1173         21\n21          241                     1172         22\n22          189                     1170         23\n23          200                     1169         24\n24          216                     1167         25",
      "text/html": "<div>\n<style scoped>\n    .dataframe tbody tr th:only-of-type {\n        vertical-align: middle;\n    }\n\n    .dataframe tbody tr th {\n        vertical-align: top;\n    }\n\n    .dataframe thead th {\n        text-align: right;\n    }\n</style>\n<table border=\"1\" class=\"dataframe\">\n  <thead>\n    <tr style=\"text-align: right;\">\n      <th></th>\n      <th>employee_id</th>\n      <th>yearly_floor_time_hours</th>\n      <th>rank_best</th>\n    </tr>\n  </thead>\n  <tbody>\n    <tr>\n      <th>0</th>\n      <td>1</td>\n      <td>1359</td>\n      <td>1</td>\n    </tr>\n    <tr>\n      <th>1</th>\n      <td>0</td>\n      <td>1321</td>\n      <td>2</td>\n    </tr>\n    <tr>\n      <th>2</th>\n      <td>2</td>\n      <td>1301</td>\n      <td>3</td>\n    </tr>\n    <tr>\n      <th>3</th>\n      <td>55</td>\n      <td>1209</td>\n      <td>4</td>\n    </tr>\n    <tr>\n      <th>4</th>\n      <td>185</td>\n      <td>1203</td>\n      <td>5</td>\n    </tr>\n    <tr>\n      <th>5</th>\n      <td>265</td>\n      <td>1202</td>\n      <td>6</td>\n    </tr>\n    <tr>\n      <th>6</th>\n      <td>155</td>\n      <td>1201</td>\n      <td>7</td>\n    </tr>\n    <tr>\n      <th>7</th>\n      <td>72</td>\n      <td>1197</td>\n      <td>8</td>\n    </tr>\n    <tr>\n      <th>8</th>\n      <td>98</td>\n      <td>1194</td>\n      <td>9</td>\n    </tr>\n    <tr>\n      <th>9</th>\n      <td>210</td>\n      <td>1190</td>\n      <td>10</td>\n    </tr>\n    <tr>\n      <th>10</th>\n      <td>12</td>\n      <td>1189</td>\n      <td>11</td>\n    </tr>\n    <tr>\n      <th>11</th>\n      <td>10</td>\n      <td>1188</td>\n      <td>12</td>\n    </tr>\n    <tr>\n      <th>12</th>\n      <td>25</td>\n      <td>1185</td>\n      <td>13</td>\n    </tr>\n    <tr>\n      <th>13</th>\n      <td>14</td>\n      <td>1184</td>\n      <td>14</td>\n    </tr>\n    <tr>\n      <th>14</th>\n      <td>262</td>\n      <td>1182</td>\n      <td>15</td>\n    </tr>\n    <tr>\n      <th>15</th>\n      <td>36</td>\n      <td>1177</td>\n      <td>16</td>\n    </tr>\n    <tr>\n      <th>16</th>\n      <td>154</td>\n      <td>1176</td>\n      <td>17</td>\n    </tr>\n    <tr>\n      <th>17</th>\n      <td>120</td>\n      <td>1175</td>\n      <td>18</td>\n    </tr>\n    <tr>\n      <th>18</th>\n      <td>179</td>\n      <td>1175</td>\n      <td>19</td>\n    </tr>\n    <tr>\n      <th>19</th>\n      <td>222</td>\n      <td>1175</td>\n      <td>20</td>\n    </tr>\n    <tr>\n      <th>20</th>\n      <td>213</td>\n      <td>1173</td>\n      <td>21</td>\n    </tr>\n    <tr>\n      <th>21</th>\n      <td>241</td>\n      <td>1172</td>\n      <td>22</td>\n    </tr>\n    <tr>\n      <th>22</th>\n      <td>189</td>\n      <td>1170</td>\n      <td>23</td>\n    </tr>\n    <tr>\n      <th>23</th>\n      <td>200</td>\n      <td>1169</td>\n      <td>24</td>\n    </tr>\n    <tr>\n      <th>24</th>\n      <td>216</td>\n      <td>1167</td>\n      <td>25</td>\n    </tr>\n  </tbody>\n</table>\n</div>"
     },
     "execution_count": 66,
     "metadata": {},
     "output_type": "execute_result"
    }
   ],
   "source": [
    "df"
   ],
   "metadata": {
    "collapsed": false,
    "pycharm": {
     "name": "#%%\n"
    }
   }
  },
  {
   "cell_type": "code",
   "execution_count": 65,
   "outputs": [
    {
     "data": {
      "text/plain": "<AxesSubplot:xlabel='rank_best'>"
     },
     "execution_count": 65,
     "metadata": {},
     "output_type": "execute_result"
    },
    {
     "data": {
      "text/plain": "<Figure size 432x288 with 1 Axes>",
      "image/png": "[encoded data removed]"
     },
     "metadata": {
      "needs_background": "light"
     },
     "output_type": "display_data"
    }
   ],
   "source": [
    "df.plot(x='rank_best', y='yearly_floor_time_hours', kind='bar')"
   ],
   "metadata": {
    "collapsed": false,
    "pycharm": {
     "name": "#%%\n"
    }
   }
  },
  {
   "cell_type": "code",
   "execution_count": null,
   "outputs": [],
   "source": [
    "sql = '''\n",
    "select employee_id\n",
    "      , yearly_floor_time_hours\n",
    "from best_worst_25\n",
    "where rank_worst <= 25;\n",
    "'''\n"
   ],
   "metadata": {
    "collapsed": false,
    "pycharm": {
     "name": "#%%\n"
    }
   }
  },
  {
   "cell_type": "markdown",
   "source": [
    "We can take a look at the bottom 25 performers and see that there was little variance from\n",
    "person-to-person; all had around 900-1000 hours annually:"
   ],
   "metadata": {
    "collapsed": false
   }
  },
  {
   "cell_type": "code",
   "execution_count": 71,
   "outputs": [],
   "source": [
    "sql = '''\n",
    "select employee_id\n",
    "      , yearly_floor_time_hours\n",
    "     , rank_worst\n",
    "from best_worst_25\n",
    "where rank_worst <= 25\n",
    "order by rank_worst;\n",
    "'''\n",
    "df = pd.read_sql_query(sql, con=engine)"
   ],
   "metadata": {
    "collapsed": false,
    "pycharm": {
     "name": "#%%\n"
    }
   }
  },
  {
   "cell_type": "code",
   "execution_count": 72,
   "outputs": [
    {
     "data": {
      "text/plain": "    employee_id  yearly_floor_time_hours  rank_worst\n0            15                      950           1\n1           209                      963           2\n2           137                      965           3\n3           148                      985           4\n4           218                      986           5\n5           138                      989           6\n6           158                      996           7\n7           157                     1001           8\n8           131                     1009           9\n9           160                     1009          10\n10           42                     1010          11\n11          113                     1011          12\n12          245                     1014          13\n13            7                     1015          14\n14          203                     1018          15\n15          239                     1019          16\n16          129                     1020          17\n17          195                     1022          18\n18          192                     1028          19\n19          231                     1029          20\n20          156                     1031          21\n21          159                     1031          22\n22          101                     1032          23\n23           22                     1032          24\n24           11                     1033          25",
      "text/html": "<div>\n<style scoped>\n    .dataframe tbody tr th:only-of-type {\n        vertical-align: middle;\n    }\n\n    .dataframe tbody tr th {\n        vertical-align: top;\n    }\n\n    .dataframe thead th {\n        text-align: right;\n    }\n</style>\n<table border=\"1\" class=\"dataframe\">\n  <thead>\n    <tr style=\"text-align: right;\">\n      <th></th>\n      <th>employee_id</th>\n      <th>yearly_floor_time_hours</th>\n      <th>rank_worst</th>\n    </tr>\n  </thead>\n  <tbody>\n    <tr>\n      <th>0</th>\n      <td>15</td>\n      <td>950</td>\n      <td>1</td>\n    </tr>\n    <tr>\n      <th>1</th>\n      <td>209</td>\n      <td>963</td>\n      <td>2</td>\n    </tr>\n    <tr>\n      <th>2</th>\n      <td>137</td>\n      <td>965</td>\n      <td>3</td>\n    </tr>\n    <tr>\n      <th>3</th>\n      <td>148</td>\n      <td>985</td>\n      <td>4</td>\n    </tr>\n    <tr>\n      <th>4</th>\n      <td>218</td>\n      <td>986</td>\n      <td>5</td>\n    </tr>\n    <tr>\n      <th>5</th>\n      <td>138</td>\n      <td>989</td>\n      <td>6</td>\n    </tr>\n    <tr>\n      <th>6</th>\n      <td>158</td>\n      <td>996</td>\n      <td>7</td>\n    </tr>\n    <tr>\n      <th>7</th>\n      <td>157</td>\n      <td>1001</td>\n      <td>8</td>\n    </tr>\n    <tr>\n      <th>8</th>\n      <td>131</td>\n      <td>1009</td>\n      <td>9</td>\n    </tr>\n    <tr>\n      <th>9</th>\n      <td>160</td>\n      <td>1009</td>\n      <td>10</td>\n    </tr>\n    <tr>\n      <th>10</th>\n      <td>42</td>\n      <td>1010</td>\n      <td>11</td>\n    </tr>\n    <tr>\n      <th>11</th>\n      <td>113</td>\n      <td>1011</td>\n      <td>12</td>\n    </tr>\n    <tr>\n      <th>12</th>\n      <td>245</td>\n      <td>1014</td>\n      <td>13</td>\n    </tr>\n    <tr>\n      <th>13</th>\n      <td>7</td>\n      <td>1015</td>\n      <td>14</td>\n    </tr>\n    <tr>\n      <th>14</th>\n      <td>203</td>\n      <td>1018</td>\n      <td>15</td>\n    </tr>\n    <tr>\n      <th>15</th>\n      <td>239</td>\n      <td>1019</td>\n      <td>16</td>\n    </tr>\n    <tr>\n      <th>16</th>\n      <td>129</td>\n      <td>1020</td>\n      <td>17</td>\n    </tr>\n    <tr>\n      <th>17</th>\n      <td>195</td>\n      <td>1022</td>\n      <td>18</td>\n    </tr>\n    <tr>\n      <th>18</th>\n      <td>192</td>\n      <td>1028</td>\n      <td>19</td>\n    </tr>\n    <tr>\n      <th>19</th>\n      <td>231</td>\n      <td>1029</td>\n      <td>20</td>\n    </tr>\n    <tr>\n      <th>20</th>\n      <td>156</td>\n      <td>1031</td>\n      <td>21</td>\n    </tr>\n    <tr>\n      <th>21</th>\n      <td>159</td>\n      <td>1031</td>\n      <td>22</td>\n    </tr>\n    <tr>\n      <th>22</th>\n      <td>101</td>\n      <td>1032</td>\n      <td>23</td>\n    </tr>\n    <tr>\n      <th>23</th>\n      <td>22</td>\n      <td>1032</td>\n      <td>24</td>\n    </tr>\n    <tr>\n      <th>24</th>\n      <td>11</td>\n      <td>1033</td>\n      <td>25</td>\n    </tr>\n  </tbody>\n</table>\n</div>"
     },
     "execution_count": 72,
     "metadata": {},
     "output_type": "execute_result"
    }
   ],
   "source": [
    "df"
   ],
   "metadata": {
    "collapsed": false,
    "pycharm": {
     "name": "#%%\n"
    }
   }
  },
  {
   "cell_type": "code",
   "execution_count": 75,
   "outputs": [
    {
     "data": {
      "text/plain": "<AxesSubplot:xlabel='rank_worst'>"
     },
     "execution_count": 75,
     "metadata": {},
     "output_type": "execute_result"
    },
    {
     "data": {
      "text/plain": "<Figure size 432x288 with 1 Axes>",
      "image/png": "[encoded data removed]"
     },
     "metadata": {
      "needs_background": "light"
     },
     "output_type": "display_data"
    }
   ],
   "source": [
    "df.plot(x='rank_worst', y='yearly_floor_time_hours', kind='bar')"
   ],
   "metadata": {
    "collapsed": false,
    "pycharm": {
     "name": "#%%\n"
    }
   }
  },
  {
   "cell_type": "code",
   "execution_count": null,
   "outputs": [],
   "source": [
    "sql = '''\n",
    "select employee_id\n",
    "      , yearly_floor_time_hours\n",
    "from best_worst_25\n",
    "where rank_worst <= 25;\n",
    "'''"
   ],
   "metadata": {
    "collapsed": false,
    "pycharm": {
     "name": "#%%\n"
    }
   }
  }
 ],
 "metadata": {
  "kernelspec": {
   "display_name": "Python 3",
   "language": "python",
   "name": "python3"
  },
  "language_info": {
   "codemirror_mode": {
    "name": "ipython",
    "version": 2
   },
   "file_extension": ".py",
   "mimetype": "text/x-python",
   "name": "python",
   "nbconvert_exporter": "python",
   "pygments_lexer": "ipython2",
   "version": "2.7.6"
  }
 },
 "nbformat": 4,
 "nbformat_minor": 0
}