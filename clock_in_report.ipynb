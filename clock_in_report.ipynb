{
 "cells": [
  {
   "cell_type": "code",
   "execution_count": 14,
   "metadata": {
    "collapsed": true
   },
   "outputs": [],
   "source": []
  },
  {
   "cell_type": "markdown",
   "source": [
    "## Package Imports"
   ],
   "metadata": {
    "collapsed": false
   }
  },
  {
   "cell_type": "code",
   "execution_count": 15,
   "outputs": [],
   "source": [
    "import os\n",
    "import pandas as pd"
   ],
   "metadata": {
    "collapsed": false,
    "pycharm": {
     "name": "#%%\n"
    }
   }
  },
  {
   "cell_type": "markdown",
   "source": [
    "## Local Imports"
   ],
   "metadata": {
    "collapsed": false
   }
  },
  {
   "cell_type": "code",
   "execution_count": 16,
   "outputs": [],
   "source": [
    "from clock.config import connect"
   ],
   "metadata": {
    "collapsed": false,
    "pycharm": {
     "name": "#%%\n"
    }
   }
  },
  {
   "cell_type": "markdown",
   "source": [
    "## Configuration"
   ],
   "metadata": {
    "collapsed": false
   }
  },
  {
   "cell_type": "code",
   "execution_count": 17,
   "outputs": [
    {
     "name": "stdout",
     "output_type": "stream",
     "text": [
      "The autoreload extension is already loaded. To reload it, use:\n",
      "  %reload_ext autoreload\n"
     ]
    }
   ],
   "source": [
    "%load_ext autoreload\n",
    "#%autoreload 0 # -- Default\n",
    "#%autoreload 1 # --Only auto-reload modules imported using aimport\n",
    "%autoreload 2 # --Auto-reload all modules\n",
    "\n"
   ],
   "metadata": {
    "collapsed": false,
    "pycharm": {
     "name": "#%%\n"
    }
   }
  },
  {
   "cell_type": "code",
   "execution_count": 18,
   "outputs": [],
   "source": [
    "engine, session = connect()"
   ],
   "metadata": {
    "collapsed": false,
    "pycharm": {
     "name": "#%%\n"
    }
   }
  },
  {
   "cell_type": "code",
   "execution_count": 19,
   "outputs": [],
   "source": [
    "sql = '''\n",
    "with frequency as (\n",
    "    select total_days\n",
    "         , count(employee_id) as frequency\n",
    "    from attendance\n",
    "    group by total_days\n",
    "    order by total_days\n",
    "), add_bins as (\n",
    "    select case\n",
    "               when total_days >= 240 and total_days <= 249 then '240-249'\n",
    "               when total_days >= 250 and total_days <= 259 then '240-259'\n",
    "               when total_days >= 260 and total_days <= 269 then '260-269'\n",
    "               when total_days >= 270 and total_days <= 279 then '270-279'\n",
    "               when total_days >= 280 and total_days <= 289 then '280-289'\n",
    "               when total_days >= 290 and total_days <= 299 then '290-299'\n",
    "               when total_days > 300 then '300+'\n",
    "        end as bin\n",
    "         , frequency\n",
    "    from frequency\n",
    ")\n",
    "select bin\n",
    "     , sum(frequency) as frequency\n",
    "from add_bins\n",
    "group by bin;\n",
    "\n",
    "'''\n",
    "df = pd.read_sql_query(sql, con=engine)"
   ],
   "metadata": {
    "collapsed": false,
    "pycharm": {
     "name": "#%%\n"
    }
   }
  },
  {
   "cell_type": "markdown",
   "source": [
    "Attendance here is defined as someone who shows up for work in a given day, even if it is for\n",
    "only a few minutes.  We can see that this follows a normal distribution, centered around the 270\n",
    " days of total attendance, with a few in the 240s and >300:"
   ],
   "metadata": {
    "collapsed": false,
    "pycharm": {
     "name": "#%% md\n"
    }
   }
  },
  {
   "cell_type": "code",
   "execution_count": 20,
   "outputs": [
    {
     "data": {
      "text/plain": "<AxesSubplot:xlabel='bin'>"
     },
     "execution_count": 20,
     "metadata": {},
     "output_type": "execute_result"
    },
    {
     "data": {
      "text/plain": "<Figure size 432x288 with 1 Axes>",
      "image/png": "[encoded data removed]"
     },
     "metadata": {
      "needs_background": "light"
     },
     "output_type": "display_data"
    }
   ],
   "source": [
    "df.plot(x='bin', y='frequency', kind='bar')"
   ],
   "metadata": {
    "collapsed": false,
    "pycharm": {
     "name": "#%%\n"
    }
   }
  },
  {
   "cell_type": "markdown",
   "source": [
    "We can take a look at the top 25 performers and see that universally they had 1100+ hours per year."
   ],
   "metadata": {
    "collapsed": false,
    "pycharm": {
     "name": "#%% md\n"
    }
   }
  },
  {
   "cell_type": "code",
   "execution_count": 21,
   "outputs": [],
   "source": [
    "sql = '''\n",
    "select employee_id\n",
    "      , yearly_floor_time_hours\n",
    "     , rank_best\n",
    "from best_worst_25\n",
    "where rank_best <= 25\n",
    "order by rank_best;\n",
    "'''\n",
    "df = pd.read_sql_query(sql, con=engine)"
   ],
   "metadata": {
    "collapsed": false,
    "pycharm": {
     "name": "#%%\n"
    }
   }
  },
  {
   "cell_type": "code",
   "execution_count": 22,
   "outputs": [
    {
     "data": {
      "text/plain": "    employee_id  yearly_floor_time_hours  rank_best\n0           447                     1204          1\n1           302                     1202          2\n2           340                     1195          3\n3            16                     1183          4\n4           104                     1168          5\n5            26                     1166          6\n6           453                     1165          7\n7           372                     1154          8\n8           316                     1151          9\n9           417                     1151         10\n10          374                     1147         11\n11          322                     1143         12\n12           53                     1140         13\n13          148                     1140         14\n14          258                     1138         15\n15          194                     1138         16\n16          310                     1137         17\n17          384                     1137         18\n18          361                     1136         19\n19          235                     1133         20\n20           59                     1133         21\n21          253                     1130         22\n22          146                     1129         23\n23          216                     1129         24\n24           31                     1127         25",
      "text/html": "<div>\n<style scoped>\n    .dataframe tbody tr th:only-of-type {\n        vertical-align: middle;\n    }\n\n    .dataframe tbody tr th {\n        vertical-align: top;\n    }\n\n    .dataframe thead th {\n        text-align: right;\n    }\n</style>\n<table border=\"1\" class=\"dataframe\">\n  <thead>\n    <tr style=\"text-align: right;\">\n      <th></th>\n      <th>employee_id</th>\n      <th>yearly_floor_time_hours</th>\n      <th>rank_best</th>\n    </tr>\n  </thead>\n  <tbody>\n    <tr>\n      <th>0</th>\n      <td>447</td>\n      <td>1204</td>\n      <td>1</td>\n    </tr>\n    <tr>\n      <th>1</th>\n      <td>302</td>\n      <td>1202</td>\n      <td>2</td>\n    </tr>\n    <tr>\n      <th>2</th>\n      <td>340</td>\n      <td>1195</td>\n      <td>3</td>\n    </tr>\n    <tr>\n      <th>3</th>\n      <td>16</td>\n      <td>1183</td>\n      <td>4</td>\n    </tr>\n    <tr>\n      <th>4</th>\n      <td>104</td>\n      <td>1168</td>\n      <td>5</td>\n    </tr>\n    <tr>\n      <th>5</th>\n      <td>26</td>\n      <td>1166</td>\n      <td>6</td>\n    </tr>\n    <tr>\n      <th>6</th>\n      <td>453</td>\n      <td>1165</td>\n      <td>7</td>\n    </tr>\n    <tr>\n      <th>7</th>\n      <td>372</td>\n      <td>1154</td>\n      <td>8</td>\n    </tr>\n    <tr>\n      <th>8</th>\n      <td>316</td>\n      <td>1151</td>\n      <td>9</td>\n    </tr>\n    <tr>\n      <th>9</th>\n      <td>417</td>\n      <td>1151</td>\n      <td>10</td>\n    </tr>\n    <tr>\n      <th>10</th>\n      <td>374</td>\n      <td>1147</td>\n      <td>11</td>\n    </tr>\n    <tr>\n      <th>11</th>\n      <td>322</td>\n      <td>1143</td>\n      <td>12</td>\n    </tr>\n    <tr>\n      <th>12</th>\n      <td>53</td>\n      <td>1140</td>\n      <td>13</td>\n    </tr>\n    <tr>\n      <th>13</th>\n      <td>148</td>\n      <td>1140</td>\n      <td>14</td>\n    </tr>\n    <tr>\n      <th>14</th>\n      <td>258</td>\n      <td>1138</td>\n      <td>15</td>\n    </tr>\n    <tr>\n      <th>15</th>\n      <td>194</td>\n      <td>1138</td>\n      <td>16</td>\n    </tr>\n    <tr>\n      <th>16</th>\n      <td>310</td>\n      <td>1137</td>\n      <td>17</td>\n    </tr>\n    <tr>\n      <th>17</th>\n      <td>384</td>\n      <td>1137</td>\n      <td>18</td>\n    </tr>\n    <tr>\n      <th>18</th>\n      <td>361</td>\n      <td>1136</td>\n      <td>19</td>\n    </tr>\n    <tr>\n      <th>19</th>\n      <td>235</td>\n      <td>1133</td>\n      <td>20</td>\n    </tr>\n    <tr>\n      <th>20</th>\n      <td>59</td>\n      <td>1133</td>\n      <td>21</td>\n    </tr>\n    <tr>\n      <th>21</th>\n      <td>253</td>\n      <td>1130</td>\n      <td>22</td>\n    </tr>\n    <tr>\n      <th>22</th>\n      <td>146</td>\n      <td>1129</td>\n      <td>23</td>\n    </tr>\n    <tr>\n      <th>23</th>\n      <td>216</td>\n      <td>1129</td>\n      <td>24</td>\n    </tr>\n    <tr>\n      <th>24</th>\n      <td>31</td>\n      <td>1127</td>\n      <td>25</td>\n    </tr>\n  </tbody>\n</table>\n</div>"
     },
     "execution_count": 22,
     "metadata": {},
     "output_type": "execute_result"
    }
   ],
   "source": [
    "df"
   ],
   "metadata": {
    "collapsed": false,
    "pycharm": {
     "name": "#%%\n"
    }
   }
  },
  {
   "cell_type": "code",
   "execution_count": 23,
   "outputs": [
    {
     "data": {
      "text/plain": "<AxesSubplot:xlabel='rank_best'>"
     },
     "execution_count": 23,
     "metadata": {},
     "output_type": "execute_result"
    },
    {
     "data": {
      "text/plain": "<Figure size 432x288 with 1 Axes>",
      "image/png": "[encoded data removed]"
     },
     "metadata": {
      "needs_background": "light"
     },
     "output_type": "display_data"
    }
   ],
   "source": [
    "df.plot(x='rank_best', y='yearly_floor_time_hours', kind='bar')"
   ],
   "metadata": {
    "collapsed": false,
    "pycharm": {
     "name": "#%%\n"
    }
   }
  },
  {
   "cell_type": "code",
   "execution_count": 24,
   "outputs": [],
   "source": [
    "sql = '''\n",
    "select employee_id\n",
    "      , yearly_floor_time_hours\n",
    "from best_worst_25\n",
    "where rank_worst <= 25;\n",
    "'''\n"
   ],
   "metadata": {
    "collapsed": false,
    "pycharm": {
     "name": "#%%\n"
    }
   }
  },
  {
   "cell_type": "markdown",
   "source": [
    "We can take a look at the bottom 25 performers and see that there was little variance from\n",
    "person-to-person; all had around 900-1000 hours annually:"
   ],
   "metadata": {
    "collapsed": false
   }
  },
  {
   "cell_type": "code",
   "execution_count": 25,
   "outputs": [],
   "source": [
    "sql = '''\n",
    "select employee_id\n",
    "      , yearly_floor_time_hours\n",
    "     , rank_worst\n",
    "from best_worst_25\n",
    "where rank_worst <= 25\n",
    "order by rank_worst;\n",
    "'''\n",
    "df = pd.read_sql_query(sql, con=engine)"
   ],
   "metadata": {
    "collapsed": false,
    "pycharm": {
     "name": "#%%\n"
    }
   }
  },
  {
   "cell_type": "code",
   "execution_count": 26,
   "outputs": [
    {
     "data": {
      "text/plain": "    employee_id  yearly_floor_time_hours  rank_worst\n0           404                      926           1\n1           267                      928           2\n2           341                      940           3\n3           421                      940           4\n4            12                      946           5\n5           369                      953           6\n6           301                      953           7\n7            60                      961           8\n8           458                      963           9\n9           442                      965          10\n10           96                      967          11\n11            0                      967          12\n12          245                      967          13\n13          406                      968          14\n14          437                      970          15\n15          290                      971          16\n16          201                      972          17\n17          419                      972          18\n18           37                      974          19\n19          260                      974          20\n20          396                      975          21\n21          351                      977          22\n22          352                      978          23\n23          116                      979          24\n24          229                      979          25",
      "text/html": "<div>\n<style scoped>\n    .dataframe tbody tr th:only-of-type {\n        vertical-align: middle;\n    }\n\n    .dataframe tbody tr th {\n        vertical-align: top;\n    }\n\n    .dataframe thead th {\n        text-align: right;\n    }\n</style>\n<table border=\"1\" class=\"dataframe\">\n  <thead>\n    <tr style=\"text-align: right;\">\n      <th></th>\n      <th>employee_id</th>\n      <th>yearly_floor_time_hours</th>\n      <th>rank_worst</th>\n    </tr>\n  </thead>\n  <tbody>\n    <tr>\n      <th>0</th>\n      <td>404</td>\n      <td>926</td>\n      <td>1</td>\n    </tr>\n    <tr>\n      <th>1</th>\n      <td>267</td>\n      <td>928</td>\n      <td>2</td>\n    </tr>\n    <tr>\n      <th>2</th>\n      <td>341</td>\n      <td>940</td>\n      <td>3</td>\n    </tr>\n    <tr>\n      <th>3</th>\n      <td>421</td>\n      <td>940</td>\n      <td>4</td>\n    </tr>\n    <tr>\n      <th>4</th>\n      <td>12</td>\n      <td>946</td>\n      <td>5</td>\n    </tr>\n    <tr>\n      <th>5</th>\n      <td>369</td>\n      <td>953</td>\n      <td>6</td>\n    </tr>\n    <tr>\n      <th>6</th>\n      <td>301</td>\n      <td>953</td>\n      <td>7</td>\n    </tr>\n    <tr>\n      <th>7</th>\n      <td>60</td>\n      <td>961</td>\n      <td>8</td>\n    </tr>\n    <tr>\n      <th>8</th>\n      <td>458</td>\n      <td>963</td>\n      <td>9</td>\n    </tr>\n    <tr>\n      <th>9</th>\n      <td>442</td>\n      <td>965</td>\n      <td>10</td>\n    </tr>\n    <tr>\n      <th>10</th>\n      <td>96</td>\n      <td>967</td>\n      <td>11</td>\n    </tr>\n    <tr>\n      <th>11</th>\n      <td>0</td>\n      <td>967</td>\n      <td>12</td>\n    </tr>\n    <tr>\n      <th>12</th>\n      <td>245</td>\n      <td>967</td>\n      <td>13</td>\n    </tr>\n    <tr>\n      <th>13</th>\n      <td>406</td>\n      <td>968</td>\n      <td>14</td>\n    </tr>\n    <tr>\n      <th>14</th>\n      <td>437</td>\n      <td>970</td>\n      <td>15</td>\n    </tr>\n    <tr>\n      <th>15</th>\n      <td>290</td>\n      <td>971</td>\n      <td>16</td>\n    </tr>\n    <tr>\n      <th>16</th>\n      <td>201</td>\n      <td>972</td>\n      <td>17</td>\n    </tr>\n    <tr>\n      <th>17</th>\n      <td>419</td>\n      <td>972</td>\n      <td>18</td>\n    </tr>\n    <tr>\n      <th>18</th>\n      <td>37</td>\n      <td>974</td>\n      <td>19</td>\n    </tr>\n    <tr>\n      <th>19</th>\n      <td>260</td>\n      <td>974</td>\n      <td>20</td>\n    </tr>\n    <tr>\n      <th>20</th>\n      <td>396</td>\n      <td>975</td>\n      <td>21</td>\n    </tr>\n    <tr>\n      <th>21</th>\n      <td>351</td>\n      <td>977</td>\n      <td>22</td>\n    </tr>\n    <tr>\n      <th>22</th>\n      <td>352</td>\n      <td>978</td>\n      <td>23</td>\n    </tr>\n    <tr>\n      <th>23</th>\n      <td>116</td>\n      <td>979</td>\n      <td>24</td>\n    </tr>\n    <tr>\n      <th>24</th>\n      <td>229</td>\n      <td>979</td>\n      <td>25</td>\n    </tr>\n  </tbody>\n</table>\n</div>"
     },
     "execution_count": 26,
     "metadata": {},
     "output_type": "execute_result"
    }
   ],
   "source": [
    "df"
   ],
   "metadata": {
    "collapsed": false,
    "pycharm": {
     "name": "#%%\n"
    }
   }
  },
  {
   "cell_type": "code",
   "execution_count": 27,
   "outputs": [
    {
     "data": {
      "text/plain": "<AxesSubplot:xlabel='rank_worst'>"
     },
     "execution_count": 27,
     "metadata": {},
     "output_type": "execute_result"
    },
    {
     "data": {
      "text/plain": "<Figure size 432x288 with 1 Axes>",
      "image/png": "[encoded data removed]"
     },
     "metadata": {
      "needs_background": "light"
     },
     "output_type": "display_data"
    }
   ],
   "source": [
    "df.plot(x='rank_worst', y='yearly_floor_time_hours', kind='bar')"
   ],
   "metadata": {
    "collapsed": false,
    "pycharm": {
     "name": "#%%\n"
    }
   }
  },
  {
   "cell_type": "code",
   "execution_count": 28,
   "outputs": [],
   "source": [
    "sql = '''\n",
    "select employee_id\n",
    "      , yearly_floor_time_hours\n",
    "from best_worst_25\n",
    "where rank_worst <= 25;\n",
    "'''"
   ],
   "metadata": {
    "collapsed": false,
    "pycharm": {
     "name": "#%%\n"
    }
   }
  }
 ],
 "metadata": {
  "kernelspec": {
   "display_name": "Python 3",
   "language": "python",
   "name": "python3"
  },
  "language_info": {
   "codemirror_mode": {
    "name": "ipython",
    "version": 2
   },
   "file_extension": ".py",
   "mimetype": "text/x-python",
   "name": "python",
   "nbconvert_exporter": "python",
   "pygments_lexer": "ipython2",
   "version": "2.7.6"
  }
 },
 "nbformat": 4,
 "nbformat_minor": 0
}